{
  "nbformat": 4,
  "nbformat_minor": 0,
  "metadata": {
    "colab": {
      "provenance": [],
      "include_colab_link": true
    },
    "kernelspec": {
      "name": "python3",
      "display_name": "Python 3"
    },
    "language_info": {
      "name": "python"
    }
  },
  "cells": [
    {
      "cell_type": "markdown",
      "metadata": {
        "id": "view-in-github",
        "colab_type": "text"
      },
      "source": [
        "<a href=\"https://colab.research.google.com/github/E1250/nlp_ref/blob/main/Regular%20Expressions.ipynb\" target=\"_parent\"><img src=\"https://colab.research.google.com/assets/colab-badge.svg\" alt=\"Open In Colab\"/></a>"
      ]
    },
    {
      "cell_type": "markdown",
      "source": [
        "* Lecture -  https://www.youtube.com/watch?v=mN_O29PqLHQ&t=3s\n",
        "* Lab - https://www.youtube.com/watch?v=iOWe92EkaXo\n",
        "* Colab - https://colab.research.google.com/drive/1YS5OXdbshBpS4rgxlxRRBg6D9wSOb3Im?usp=sharing"
      ],
      "metadata": {
        "id": "GzzquNgJfGa6"
      }
    },
    {
      "cell_type": "markdown",
      "source": [
        "# Basics of Regex\n",
        "\n",
        "## Definition\n",
        "Regex is a sequence of characters that forms a search pattern. It can be used for string matching and manipulation tasks.\n",
        "\n",
        "## Syntax\n",
        "Common regex symbols include:\n",
        "- `.`: Matches any single character.\n",
        "- `^`: Matches the start of a string if it outside like `^[A-Z]`, But if it is inside means Negation like below.\n",
        "- `$`: Matches the end of a string.\n",
        "- `*`: Matches zero or more occurrences of the preceding element.\n",
        "- `+`: Matches one or more occurrences of the preceding element.\n",
        "- `?`: Matches zero or one occurrence of the preceding element.\n",
        "- `[A-Z]`: Matches any capital char in this range. also `[a-z]`, `[0-9]`\n",
        "- `[abc]`: Matches any one character in the set.\n",
        "- `[^abc]`: Matches any character not in the set.\n",
        "- `(a|b)`: Matches either `a` or `b`.\n",
        "- `{2,}`: Number of matches you wanna stop at\n",
        "- `\\.`: Means treat the `.` as char not a pattern\n",
        "\n",
        "# Why Regex in NLP\n",
        "\n",
        "## Pattern Recognition\n",
        "Regex is used to identify patterns in text, such as email addresses, phone numbers, or specific keywords.\n",
        "\n",
        "## Data Cleaning\n",
        "It helps in cleaning and preprocessing text data by removing unwanted characters or formatting.\n",
        "\n",
        "## Tokenization\n",
        "Regex can be used to split text into tokens, essential for many NLP tasks.\n",
        "\n",
        "## Text Transformation\n",
        "You can use regex for tasks like replacing or modifying specific parts of the text.\n"
      ],
      "metadata": {
        "id": "UuGuIfDSlSe6"
      }
    },
    {
      "cell_type": "code",
      "execution_count": null,
      "metadata": {
        "id": "xyVejNCnlOi5"
      },
      "outputs": [],
      "source": [
        "import re"
      ]
    },
    {
      "cell_type": "markdown",
      "source": [
        "1. Finding Patterns:\n"
      ],
      "metadata": {
        "id": "vAqNlc7wmd6Z"
      }
    },
    {
      "cell_type": "code",
      "source": [
        "text = \"راسلني على hello_world@gmail.com\"\n",
        "email_pattern = r'\\b[A-Za-z0-9._%+-]+@[A-Za-z0-9.-]+\\.[A-Z|a-z]{2,}\\b'\n",
        "emails = re.findall(email_pattern, text)\n",
        "emails"
      ],
      "metadata": {
        "colab": {
          "base_uri": "https://localhost:8080/"
        },
        "id": "-looghIemR-M",
        "outputId": "23967f1e-e0a6-4975-83b6-dc1db3b7fc00"
      },
      "execution_count": null,
      "outputs": [
        {
          "output_type": "stream",
          "name": "stdout",
          "text": [
            "['hello_world@gmail.com']\n"
          ]
        }
      ]
    },
    {
      "cell_type": "markdown",
      "source": [
        "2. Data Cleaning:\n",
        "\n",
        "Removing Numbers and Symbols:"
      ],
      "metadata": {
        "id": "lU7Dm9itm7c0"
      }
    },
    {
      "cell_type": "code",
      "source": [
        "text = \"بعض النصوص العشوائية مع أرقام 123 ورموز #!\"\n",
        "cleaned_text = re.sub(r'[^أ-ي ]', '', text)\n",
        "cleaned_text"
      ],
      "metadata": {
        "colab": {
          "base_uri": "https://localhost:8080/"
        },
        "id": "S1RS_I7LmrqL",
        "outputId": "6f24bdf1-869c-412b-aa96-e67f8c3e6bc2"
      },
      "execution_count": null,
      "outputs": [
        {
          "output_type": "stream",
          "name": "stdout",
          "text": [
            "بعض النصوص العشوائية مع أرقام  ورموز \n"
          ]
        }
      ]
    },
    {
      "cell_type": "markdown",
      "source": [
        "3. Tokenization:\n",
        "\n",
        "Splitting Text into Words:"
      ],
      "metadata": {
        "id": "SQbfRiStnMhp"
      }
    },
    {
      "cell_type": "code",
      "source": [
        "text = \"مرحبا وكيف حالك\"\n",
        "tokens = re.findall(r'\\b\\w+\\b', text)\n",
        "tokens"
      ],
      "metadata": {
        "colab": {
          "base_uri": "https://localhost:8080/"
        },
        "id": "UVK8hQSqnSlq",
        "outputId": "88823632-f572-4b7c-9272-e354c504fa72"
      },
      "execution_count": null,
      "outputs": [
        {
          "output_type": "stream",
          "name": "stdout",
          "text": [
            "['مرحبا', 'وكيف', 'حالك']\n"
          ]
        }
      ]
    },
    {
      "cell_type": "markdown",
      "source": [
        "4. Text Transformation:\n",
        "\n",
        "Replacing Words:"
      ],
      "metadata": {
        "id": "oU7CRnlhnvsF"
      }
    },
    {
      "cell_type": "code",
      "source": [
        "text = \"الطقس مشمس\"\n",
        "modified_text = re.sub(r'مشمس', 'ممطر', text)\n",
        "modified_text"
      ],
      "metadata": {
        "colab": {
          "base_uri": "https://localhost:8080/"
        },
        "id": "U7z9sDLRnxNW",
        "outputId": "57ffbc21-2cb9-449a-d58a-d427507308a3"
      },
      "execution_count": null,
      "outputs": [
        {
          "output_type": "stream",
          "name": "stdout",
          "text": [
            "الطقس ممطر\n"
          ]
        }
      ]
    },
    {
      "cell_type": "markdown",
      "source": [
        "Extracting Hashtags:"
      ],
      "metadata": {
        "id": "8066N-Ian9a5"
      }
    },
    {
      "cell_type": "code",
      "source": [
        "text = \"هل نستطيع القضاء على#العفن#البني فى #البطاطس؟\"\n",
        "hashtags = re.findall(r'#(\\w+)', text)\n",
        "hashtags"
      ],
      "metadata": {
        "colab": {
          "base_uri": "https://localhost:8080/"
        },
        "id": "yEz2RkWPn-D3",
        "outputId": "f12218ff-10d6-43f7-8e99-136eeffa4b8b"
      },
      "execution_count": null,
      "outputs": [
        {
          "output_type": "stream",
          "name": "stdout",
          "text": [
            "['العفن', 'البني', 'البطاطس']\n"
          ]
        }
      ]
    },
    {
      "cell_type": "markdown",
      "source": [
        "Finding Arabic Dates:"
      ],
      "metadata": {
        "id": "ePznzR9Kotir"
      }
    },
    {
      "cell_type": "code",
      "source": [
        "text = \"التاريخ اليوم هو ٢٣/١٠/٢٠٢٣\"\n",
        "dates = re.findall(r'\\b[٠-٩]{1,2}/[٠-٩]{1,2}/[٠-٩]{2,4}\\b', text)\n",
        "dates"
      ],
      "metadata": {
        "colab": {
          "base_uri": "https://localhost:8080/"
        },
        "id": "iSnSGI3moldT",
        "outputId": "23779959-6f05-4855-8eb7-738a36d11c63"
      },
      "execution_count": null,
      "outputs": [
        {
          "output_type": "stream",
          "name": "stdout",
          "text": [
            "['٢٣/١٠/٢٠٢٣']\n"
          ]
        }
      ]
    },
    {
      "cell_type": "markdown",
      "source": [
        "Matching Arabic Phone Numbers:"
      ],
      "metadata": {
        "id": "NRmdXXyno3z8"
      }
    },
    {
      "cell_type": "code",
      "source": [
        "text = \"اتصل بي على ٠١٢٣٤٥٦٧٨٩\"\n",
        "phone_numbers = re.findall(r'\\b[٠-٩]{10}\\b', text)\n",
        "phone_numbers"
      ],
      "metadata": {
        "colab": {
          "base_uri": "https://localhost:8080/"
        },
        "id": "dwWpOYMSo49N",
        "outputId": "01d883dd-69bb-463b-ac85-4114443b7d3e"
      },
      "execution_count": null,
      "outputs": [
        {
          "output_type": "stream",
          "name": "stdout",
          "text": [
            "['٠١٢٣٤٥٦٧٨٩']\n"
          ]
        }
      ]
    },
    {
      "cell_type": "markdown",
      "source": [
        " Removing Arabic Diacritics (Tashkeel):"
      ],
      "metadata": {
        "id": "MWdOdzTYo9Jo"
      }
    },
    {
      "cell_type": "code",
      "source": [
        "text = \"هَذَا نَصٌّ بِالْتَشْكِيل\"\n",
        "text_without_diacritics = re.sub(r'[\\u064B-\\u065F]', '', text)\n",
        "text_without_diacritics"
      ],
      "metadata": {
        "id": "NRuWYHCJpItN",
        "colab": {
          "base_uri": "https://localhost:8080/"
        },
        "outputId": "8f32c542-dc23-46b7-b0d4-da65299d055f"
      },
      "execution_count": null,
      "outputs": [
        {
          "output_type": "stream",
          "name": "stdout",
          "text": [
            "هذا نص بالتشكيل\n"
          ]
        }
      ]
    }
  ]
}