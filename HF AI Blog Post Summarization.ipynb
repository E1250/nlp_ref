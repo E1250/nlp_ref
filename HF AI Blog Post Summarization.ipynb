{
 "cells": [
  {
   "attachments": {},
   "cell_type": "markdown",
   "metadata": {},
   "source": [
    "## AI Blog Post Summarization with Hugging Face Transformation & Beautiful Soup Web Scraping\n",
    "- YouTube Video - https://www.youtube.com/watch?v=JctmnczWg0U\n",
    "- Github Repo - https://github.com/nicknochnack/Longform-Summarization-with-Hugging-Face"
   ]
  },
  {
   "attachments": {},
   "cell_type": "markdown",
   "metadata": {},
   "source": [
    "### 0. Installing Transformers and Importing Dependencies"
   ]
  },
  {
   "cell_type": "code",
   "execution_count": null,
   "metadata": {},
   "outputs": [],
   "source": [
    "%pip install transformers"
   ]
  },
  {
   "cell_type": "code",
   "execution_count": null,
   "metadata": {},
   "outputs": [],
   "source": [
    "from transformers import pipeline\n",
    "from bs4 import BeautifulSoup\n",
    "import requests"
   ]
  },
  {
   "attachments": {},
   "cell_type": "markdown",
   "metadata": {},
   "source": [
    "### 1. Load Summarization Pipeline"
   ]
  },
  {
   "cell_type": "code",
   "execution_count": null,
   "metadata": {},
   "outputs": [],
   "source": [
    "summarizer = pipeline(\"summarization\")"
   ]
  },
  {
   "attachments": {},
   "cell_type": "markdown",
   "metadata": {},
   "source": [
    "### 2. Get Blog Post\n",
    "We now will use `request` to get the BlogPage context then Scrap the page using `BeautifulSoup` "
   ]
  },
  {
   "cell_type": "code",
   "execution_count": null,
   "metadata": {},
   "outputs": [],
   "source": [
    "URL = \"https://vercel.com/blog/visual-editing\"\n",
    "page_body = requests.get(URL)\n",
    "\n",
    "# Scraping the webpage\n",
    "soup = BeautifulSoup(page_body.text,'html.parser')\n",
    "results = soup.find_all(['h1','p'])\n",
    "\n",
    "# Merging the text into one Article\n",
    "text = [result.text for result in results]\n",
    "ARTICLE = ' '.join(text)"
   ]
  },
  {
   "attachments": {},
   "cell_type": "markdown",
   "metadata": {},
   "source": [
    "### 3. Chunk Text\n",
    "Now we need to split the data into chunks to make it easy to process. we will split the data based on `<eos>` instead of `?` , `.` and `!`, cause we need them in our results"
   ]
  },
  {
   "cell_type": "code",
   "execution_count": null,
   "metadata": {},
   "outputs": [],
   "source": [
    "# Splitting based on `<eos>`\n",
    "ARTICLE = ARTICLE.replace('.',\".<eos>\")\n",
    "ARTICLE = ARTICLE.replace('?',\"?<eos>\")\n",
    "ARTICLE = ARTICLE.replace('!',\"!<eos>\")\n",
    "sentenses = ARTICLE.split('<eos>')\n",
    "sentenses[:10]"
   ]
  },
  {
   "cell_type": "code",
   "execution_count": null,
   "metadata": {},
   "outputs": [],
   "source": [
    "#! TODO Revise this again\n",
    "\n",
    "MAX_CHUNK = 500\n",
    "current_chunk = 0\n",
    "chunks = []\n",
    "\n",
    "for sentense in sentenses:\n",
    "    if len(chunks) == current_chunk + 1:\n",
    "        if len(chunks[current_chunk]) + len(sentense.split(' ')) <= MAX_CHUNK:\n",
    "            chunks[current_chunk].extend(sentense.split(' '))\n",
    "        else:\n",
    "            current_chunk+=1\n",
    "            chunks.append(sentense.split(' '))\n",
    "    else:\n",
    "        print(current_chunk)\n",
    "        chunks.append(sentense.split(' '))\n",
    "\n",
    "# Joining all Chunks        \n",
    "for chunk_id in range(len(chunks)):\n",
    "    chunks[chunk_id] = ' '.join(chunks[chunk_id])        "
   ]
  },
  {
   "attachments": {},
   "cell_type": "markdown",
   "metadata": {},
   "source": [
    "### 4. Summarize Text"
   ]
  },
  {
   "cell_type": "code",
   "execution_count": null,
   "metadata": {},
   "outputs": [],
   "source": [
    "res = summarizer(chunks , max_length = 120 , min_length = 30 , do_sample = False)\n",
    "\n",
    "print(f\"Type of Summarizer Result {type(res)}\")\n",
    "\n",
    "# The Summarization \n",
    "' '.join([summ['summary_text'] for summ in res])"
   ]
  },
  {
   "attachments": {},
   "cell_type": "markdown",
   "metadata": {},
   "source": [
    "### 5. Output to Text File"
   ]
  },
  {
   "cell_type": "code",
   "execution_count": null,
   "metadata": {},
   "outputs": [],
   "source": [
    "text = \" \".join([summ['summary_text'] for summ in res])\n",
    "\n",
    "with open('BlogSummary.txt' , 'w') as f:\n",
    "    f.write(text)"
   ]
  }
 ],
 "metadata": {
  "kernelspec": {
   "display_name": "base",
   "language": "python",
   "name": "python3"
  },
  "language_info": {
   "codemirror_mode": {
    "name": "ipython",
    "version": 3
   },
   "file_extension": ".py",
   "mimetype": "text/x-python",
   "name": "python",
   "nbconvert_exporter": "python",
   "pygments_lexer": "ipython3",
   "version": "3.8.16"
  },
  "orig_nbformat": 4
 },
 "nbformat": 4,
 "nbformat_minor": 2
}
